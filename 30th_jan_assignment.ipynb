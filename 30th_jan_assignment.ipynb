{
 "cells": [
  {
   "cell_type": "markdown",
   "id": "fb3b6079",
   "metadata": {},
   "source": [
    "# 30th_Jan_Assignment"
   ]
  },
  {
   "cell_type": "code",
   "execution_count": 5,
   "id": "4fd21276",
   "metadata": {},
   "outputs": [
    {
     "name": "stdout",
     "output_type": "stream",
     "text": [
      "Enter your marks in percentage43\n",
      "Grade = D\n"
     ]
    }
   ],
   "source": [
    "\"\"\"\n",
    "Q 1 \n",
    "\n",
    "\"\"\"\n",
    "percentage = int(input(\"Enter your marks in percentage\"))\n",
    "\n",
    "if percentage > 90 :\n",
    "    print(\"Grade = A\")\n",
    "    \n",
    "elif percentage >80 and percentage <=90:\n",
    "    print(\"Grade = B\")\n",
    "    \n",
    "elif percentage >= 60 and percentage <=80:\n",
    "    print(\"Grade = c\")\n",
    "    \n",
    "else :\n",
    "    print(\"Grade = D\")"
   ]
  },
  {
   "cell_type": "code",
   "execution_count": 6,
   "id": "3899449a",
   "metadata": {},
   "outputs": [
    {
     "name": "stdout",
     "output_type": "stream",
     "text": [
      "Enter cost price of a bike = 245\n",
      "Road tax to be paid is 5%\n"
     ]
    }
   ],
   "source": [
    "\"\"\"\n",
    "Q 2\n",
    "\n",
    "\"\"\"\n",
    "cost_price = int(input(\"Enter cost price of a bike = \"))\n",
    "\n",
    "if cost_price >100000 :\n",
    "    print(\"Road tax to be paid is 15%\")\n",
    "    \n",
    "elif cost_price >50000 and cost_price <= 100000:\n",
    "    print(\"Road tax to be paid is 10 %\")\n",
    "    \n",
    "else :\n",
    "    print(\"Road tax to be paid is 5%\")\n"
   ]
  },
  {
   "cell_type": "code",
   "execution_count": 7,
   "id": "8c7ce96e",
   "metadata": {},
   "outputs": [
    {
     "name": "stdout",
     "output_type": "stream",
     "text": [
      "Enter your city name = Delhi\n",
      "Red Fort\n"
     ]
    }
   ],
   "source": [
    "\"\"\"\n",
    "Q 3 \n",
    "\n",
    "\"\"\"\n",
    "city_name = input(\"Enter your city name = \")\n",
    "\n",
    "if city_name == \"Delhi\":\n",
    "    print(\"Red Fort\")\n",
    "    \n",
    "elif city_name == \"Agra\":\n",
    "    print(\"Taj Mahal\")\n",
    "    \n",
    "else :\n",
    "    print(\"Jal Mahal\")"
   ]
  },
  {
   "cell_type": "code",
   "execution_count": null,
   "id": "bff58ea6",
   "metadata": {},
   "outputs": [
    {
     "name": "stdout",
     "output_type": "stream",
     "text": [
      "Enter your number : 425\n"
     ]
    }
   ],
   "source": [
    "\"\"\"\n",
    "Q 4\n",
    "\n",
    "\"\"\"\n",
    "count = 1\n",
    "number = int(input(\"Enter your number : \"))\n",
    "\n",
    "while True :\n",
    "    if number/3 < 10 :\n",
    "        count = count + 1\n",
    "return count\n"
   ]
  },
  {
   "cell_type": "code",
   "execution_count": null,
   "id": "3874e67a",
   "metadata": {},
   "outputs": [],
   "source": [
    "\"\"\"\n",
    "Q 5\n",
    "\"\"\"\n",
    "\n",
    "\"\"\"\n",
    "\n",
    "While loop statements in Python are used to repeatedly execute a certain statement as long as\n",
    "the condition provided in the while loop statement stays true.\n",
    "\n",
    "eg - \n",
    "\"\"\"\n",
    "i = 2\n",
    "while i < 10 :\n",
    "    print(\"PW SKILL\")\n",
    "    i = i + 1\n",
    "\n"
   ]
  },
  {
   "cell_type": "code",
   "execution_count": null,
   "id": "c16316d7",
   "metadata": {},
   "outputs": [],
   "source": [
    "\"\"\"\n",
    "Q 6 \n",
    "\"\"\"\n",
    "i=1\n",
    "while i<=5:\n",
    "    j=1\n",
    "    while j<=i:\n",
    "        print(j,end=\" \")\n",
    "        j=j+1\n",
    "    print(\"\")\n",
    "    i=i+1"
   ]
  },
  {
   "cell_type": "code",
   "execution_count": null,
   "id": "ad2a351c",
   "metadata": {},
   "outputs": [],
   "source": [
    "\"\"\"\n",
    "Q 7\n",
    "\"\"\"\n",
    "i = 10\n",
    "while i > 0:\n",
    "    print(i)\n",
    "    i = i - 1"
   ]
  },
  {
   "cell_type": "code",
   "execution_count": null,
   "id": "86932647",
   "metadata": {},
   "outputs": [],
   "source": [
    "\"\"\"\n",
    "Q 8\n",
    "\"\"\"\n",
    "i = 10\n",
    "while i > 0:\n",
    "    print(i)\n",
    "    i = i - 1"
   ]
  },
  {
   "cell_type": "code",
   "execution_count": null,
   "id": "9bce1fd3",
   "metadata": {},
   "outputs": [],
   "source": []
  },
  {
   "cell_type": "code",
   "execution_count": null,
   "id": "589233ef",
   "metadata": {},
   "outputs": [],
   "source": []
  },
  {
   "cell_type": "code",
   "execution_count": null,
   "id": "7a36495b",
   "metadata": {},
   "outputs": [],
   "source": []
  },
  {
   "cell_type": "code",
   "execution_count": null,
   "id": "07c30c93",
   "metadata": {},
   "outputs": [],
   "source": []
  },
  {
   "cell_type": "code",
   "execution_count": null,
   "id": "35a40ffb",
   "metadata": {},
   "outputs": [],
   "source": []
  },
  {
   "cell_type": "code",
   "execution_count": null,
   "id": "ca44a456",
   "metadata": {},
   "outputs": [],
   "source": []
  },
  {
   "cell_type": "code",
   "execution_count": null,
   "id": "e2bee33c",
   "metadata": {},
   "outputs": [],
   "source": []
  },
  {
   "cell_type": "code",
   "execution_count": null,
   "id": "b2d947d5",
   "metadata": {},
   "outputs": [],
   "source": []
  },
  {
   "cell_type": "code",
   "execution_count": null,
   "id": "dbbae2b2",
   "metadata": {},
   "outputs": [],
   "source": []
  },
  {
   "cell_type": "code",
   "execution_count": null,
   "id": "9a6694f9",
   "metadata": {},
   "outputs": [],
   "source": []
  },
  {
   "cell_type": "code",
   "execution_count": null,
   "id": "8db357dd",
   "metadata": {},
   "outputs": [],
   "source": []
  },
  {
   "cell_type": "code",
   "execution_count": null,
   "id": "8d3fbe1a",
   "metadata": {},
   "outputs": [],
   "source": []
  },
  {
   "cell_type": "code",
   "execution_count": null,
   "id": "bdea6788",
   "metadata": {},
   "outputs": [],
   "source": []
  },
  {
   "cell_type": "code",
   "execution_count": null,
   "id": "44c0b924",
   "metadata": {},
   "outputs": [],
   "source": []
  }
 ],
 "metadata": {
  "kernelspec": {
   "display_name": "Python 3 (ipykernel)",
   "language": "python",
   "name": "python3"
  },
  "language_info": {
   "codemirror_mode": {
    "name": "ipython",
    "version": 3
   },
   "file_extension": ".py",
   "mimetype": "text/x-python",
   "name": "python",
   "nbconvert_exporter": "python",
   "pygments_lexer": "ipython3",
   "version": "3.9.13"
  }
 },
 "nbformat": 4,
 "nbformat_minor": 5
}
